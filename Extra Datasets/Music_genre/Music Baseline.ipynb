{
 "cells": [
  {
   "cell_type": "code",
   "execution_count": 68,
   "metadata": {},
   "outputs": [],
   "source": [
    "# Set-Ups\n",
    "import csv\n",
    "import math\n",
    "import random\n",
    "import string\n",
    "import numpy as np\n",
    "import pandas as pd \n",
    "import pylab as plt\n",
    "\n",
    "# Load the data\n",
    "df = pd.read_csv(\"train.csv\", sep=\",\",skipinitialspace = True)\n",
    "#df = pd.read_csv(\"framingham.csv\", sep=\",\")\n",
    "## data split\n",
    "from sklearn.model_selection import train_test_split\n",
    "\n",
    "df = df.dropna()\n",
    "df = df.drop(columns=['Track Name'])\n",
    "df[\"Artist Name\"] = df[\"Artist Name\"].astype(str)\n",
    "\n",
    "from sklearn import preprocessing\n",
    "number = preprocessing.LabelEncoder()\n",
    "df[\"Artist Name\"] = number.fit_transform(df[\"Artist Name\"])\n",
    "\n",
    "df_X = df[df.columns[df.columns != 'Class']].copy()\n",
    "df_y = df['Class'].copy()"
   ]
  },
  {
   "cell_type": "code",
   "execution_count": 69,
   "metadata": {},
   "outputs": [
    {
     "name": "stdout",
     "output_type": "stream",
     "text": [
      "Number of training instances:  9450 \n",
      "Number of test instances:  2363\n"
     ]
    }
   ],
   "source": [
    "X_train, X_test, y_train, y_test = train_test_split(df_X, df_y, test_size=0.2, random_state=0)\n",
    "print (\"Number of training instances: \", len(X_train), \"\\nNumber of test instances: \", len(X_test))"
   ]
  },
  {
   "cell_type": "code",
   "execution_count": 34,
   "metadata": {},
   "outputs": [
    {
     "data": {
      "text/html": [
       "<div>\n",
       "<style scoped>\n",
       "    .dataframe tbody tr th:only-of-type {\n",
       "        vertical-align: middle;\n",
       "    }\n",
       "\n",
       "    .dataframe tbody tr th {\n",
       "        vertical-align: top;\n",
       "    }\n",
       "\n",
       "    .dataframe thead th {\n",
       "        text-align: right;\n",
       "    }\n",
       "</style>\n",
       "<table border=\"1\" class=\"dataframe\">\n",
       "  <thead>\n",
       "    <tr style=\"text-align: right;\">\n",
       "      <th></th>\n",
       "      <th>Artist Name</th>\n",
       "      <th>Popularity</th>\n",
       "      <th>danceability</th>\n",
       "      <th>energy</th>\n",
       "      <th>key</th>\n",
       "      <th>loudness</th>\n",
       "      <th>mode</th>\n",
       "      <th>speechiness</th>\n",
       "      <th>acousticness</th>\n",
       "      <th>instrumentalness</th>\n",
       "      <th>liveness</th>\n",
       "      <th>valence</th>\n",
       "      <th>tempo</th>\n",
       "      <th>duration_in min/ms</th>\n",
       "      <th>time_signature</th>\n",
       "    </tr>\n",
       "  </thead>\n",
       "  <tbody>\n",
       "    <tr>\n",
       "      <th>1</th>\n",
       "      <td>789</td>\n",
       "      <td>54.0</td>\n",
       "      <td>0.382</td>\n",
       "      <td>0.814</td>\n",
       "      <td>3.0</td>\n",
       "      <td>-7.230</td>\n",
       "      <td>1</td>\n",
       "      <td>0.0406</td>\n",
       "      <td>0.001100</td>\n",
       "      <td>0.004010</td>\n",
       "      <td>0.1010</td>\n",
       "      <td>0.5690</td>\n",
       "      <td>116.454</td>\n",
       "      <td>251733.0</td>\n",
       "      <td>4</td>\n",
       "    </tr>\n",
       "    <tr>\n",
       "      <th>2</th>\n",
       "      <td>5786</td>\n",
       "      <td>35.0</td>\n",
       "      <td>0.434</td>\n",
       "      <td>0.614</td>\n",
       "      <td>6.0</td>\n",
       "      <td>-8.334</td>\n",
       "      <td>1</td>\n",
       "      <td>0.0525</td>\n",
       "      <td>0.486000</td>\n",
       "      <td>0.000196</td>\n",
       "      <td>0.3940</td>\n",
       "      <td>0.7870</td>\n",
       "      <td>147.681</td>\n",
       "      <td>109667.0</td>\n",
       "      <td>4</td>\n",
       "    </tr>\n",
       "    <tr>\n",
       "      <th>4</th>\n",
       "      <td>4597</td>\n",
       "      <td>53.0</td>\n",
       "      <td>0.167</td>\n",
       "      <td>0.975</td>\n",
       "      <td>2.0</td>\n",
       "      <td>-4.279</td>\n",
       "      <td>1</td>\n",
       "      <td>0.2160</td>\n",
       "      <td>0.000169</td>\n",
       "      <td>0.016100</td>\n",
       "      <td>0.1720</td>\n",
       "      <td>0.0918</td>\n",
       "      <td>199.060</td>\n",
       "      <td>229960.0</td>\n",
       "      <td>4</td>\n",
       "    </tr>\n",
       "    <tr>\n",
       "      <th>5</th>\n",
       "      <td>5834</td>\n",
       "      <td>53.0</td>\n",
       "      <td>0.235</td>\n",
       "      <td>0.977</td>\n",
       "      <td>6.0</td>\n",
       "      <td>0.878</td>\n",
       "      <td>1</td>\n",
       "      <td>0.1070</td>\n",
       "      <td>0.003530</td>\n",
       "      <td>0.006040</td>\n",
       "      <td>0.1720</td>\n",
       "      <td>0.2410</td>\n",
       "      <td>152.952</td>\n",
       "      <td>208133.0</td>\n",
       "      <td>4</td>\n",
       "    </tr>\n",
       "    <tr>\n",
       "      <th>6</th>\n",
       "      <td>5158</td>\n",
       "      <td>48.0</td>\n",
       "      <td>0.674</td>\n",
       "      <td>0.658</td>\n",
       "      <td>5.0</td>\n",
       "      <td>-9.647</td>\n",
       "      <td>0</td>\n",
       "      <td>0.1040</td>\n",
       "      <td>0.404000</td>\n",
       "      <td>0.000001</td>\n",
       "      <td>0.0981</td>\n",
       "      <td>0.6770</td>\n",
       "      <td>143.292</td>\n",
       "      <td>329387.0</td>\n",
       "      <td>4</td>\n",
       "    </tr>\n",
       "  </tbody>\n",
       "</table>\n",
       "</div>"
      ],
      "text/plain": [
       "   Artist Name  Popularity  danceability  energy  key  loudness  mode  \\\n",
       "1          789        54.0         0.382   0.814  3.0    -7.230     1   \n",
       "2         5786        35.0         0.434   0.614  6.0    -8.334     1   \n",
       "4         4597        53.0         0.167   0.975  2.0    -4.279     1   \n",
       "5         5834        53.0         0.235   0.977  6.0     0.878     1   \n",
       "6         5158        48.0         0.674   0.658  5.0    -9.647     0   \n",
       "\n",
       "   speechiness  acousticness  instrumentalness  liveness  valence    tempo  \\\n",
       "1       0.0406      0.001100          0.004010    0.1010   0.5690  116.454   \n",
       "2       0.0525      0.486000          0.000196    0.3940   0.7870  147.681   \n",
       "4       0.2160      0.000169          0.016100    0.1720   0.0918  199.060   \n",
       "5       0.1070      0.003530          0.006040    0.1720   0.2410  152.952   \n",
       "6       0.1040      0.404000          0.000001    0.0981   0.6770  143.292   \n",
       "\n",
       "   duration_in min/ms  time_signature  \n",
       "1            251733.0               4  \n",
       "2            109667.0               4  \n",
       "4            229960.0               4  \n",
       "5            208133.0               4  \n",
       "6            329387.0               4  "
      ]
     },
     "execution_count": 34,
     "metadata": {},
     "output_type": "execute_result"
    }
   ],
   "source": [
    "df_X.head()"
   ]
  },
  {
   "cell_type": "code",
   "execution_count": 20,
   "metadata": {},
   "outputs": [
    {
     "data": {
      "text/plain": [
       "0         5\n",
       "1        10\n",
       "2         6\n",
       "3         5\n",
       "4        10\n",
       "         ..\n",
       "17991     6\n",
       "17992     2\n",
       "17993     8\n",
       "17994     8\n",
       "17995    10\n",
       "Name: Class, Length: 17996, dtype: object"
      ]
     },
     "execution_count": 20,
     "metadata": {},
     "output_type": "execute_result"
    }
   ],
   "source": [
    "df_y = df_y.astype(str)\n",
    "df_y"
   ]
  },
  {
   "cell_type": "code",
   "execution_count": 35,
   "metadata": {},
   "outputs": [
    {
     "name": "stdout",
     "output_type": "stream",
     "text": [
      "Decision Tree accuracy for training set: 0.914074\n",
      "Decision Tree accuracy for test set: 0.336437\n"
     ]
    }
   ],
   "source": [
    "from sklearn.tree import DecisionTreeClassifier\n",
    "\n",
    "dt = DecisionTreeClassifier(max_depth=None)\n",
    "dt_model = dt.fit(X_train,y_train)\n",
    "print('Decision Tree accuracy for training set: %f' % dt_model.score(X_train, y_train))\n",
    "print('Decision Tree accuracy for test set: %f' % dt_model.score(X_test, y_test))"
   ]
  },
  {
   "cell_type": "code",
   "execution_count": 36,
   "metadata": {},
   "outputs": [
    {
     "name": "stdout",
     "output_type": "stream",
     "text": [
      "Random forest accuracy for training set: 0.914074\n",
      "Random forest accuracy for test set: 0.481168\n"
     ]
    }
   ],
   "source": [
    "from sklearn.tree import DecisionTreeClassifier\n",
    "from sklearn.ensemble import RandomForestClassifier\n",
    "clf = RandomForestClassifier(n_estimators=100, max_depth=None)\n",
    "clf.fit(X_train,y_train)\n",
    "\n",
    "print('Random forest accuracy for training set: %f' % clf.score(X_train, y_train))\n",
    "print('Random forest accuracy for test set: %f' % clf.score(X_test, y_test))"
   ]
  },
  {
   "cell_type": "code",
   "execution_count": 70,
   "metadata": {},
   "outputs": [
    {
     "name": "stdout",
     "output_type": "stream",
     "text": [
      "[22:43:48] WARNING: C:/Users/Administrator/workspace/xgboost-win64_release_1.5.1/src/learner.cc:1115: Starting in XGBoost 1.3.0, the default evaluation metric used with the objective 'multi:softprob' was changed from 'merror' to 'mlogloss'. Explicitly set eval_metric if you'd like to restore the old behavior.\n",
      "GBDT accuracy for training set: 0.569630\n",
      "GBDT forest accuracy for test set: 0.494710\n"
     ]
    },
    {
     "name": "stderr",
     "output_type": "stream",
     "text": [
      "C:\\Users\\92503\\AppData\\Local\\Programs\\Python\\Python310\\lib\\site-packages\\xgboost\\sklearn.py:1224: UserWarning: The use of label encoder in XGBClassifier is deprecated and will be removed in a future release. To remove this warning, do the following: 1) Pass option use_label_encoder=False when constructing XGBClassifier object; and 2) Encode your labels (y) as integers starting with 0, i.e. 0, 1, 2, ..., [num_class - 1].\n",
      "  warnings.warn(label_encoder_deprecation_msg, UserWarning)\n",
      "C:\\Users\\92503\\AppData\\Local\\Programs\\Python\\Python310\\lib\\site-packages\\xgboost\\data.py:262: FutureWarning: pandas.Int64Index is deprecated and will be removed from pandas in a future version. Use pandas.Index with the appropriate dtype instead.\n",
      "  elif isinstance(data.columns, (pd.Int64Index, pd.RangeIndex)):\n",
      "C:\\Users\\92503\\AppData\\Local\\Programs\\Python\\Python310\\lib\\site-packages\\xgboost\\data.py:262: FutureWarning: pandas.Int64Index is deprecated and will be removed from pandas in a future version. Use pandas.Index with the appropriate dtype instead.\n",
      "  elif isinstance(data.columns, (pd.Int64Index, pd.RangeIndex)):\n"
     ]
    }
   ],
   "source": [
    "# XGBoosting Set-Ups\n",
    "import xgboost as xgb\n",
    "xg_cl = xgb.XGBClassifier(objective='multi:softmax', n_estimators=2, seed=4212)\n",
    "xg_cl.fit(X_train,y_train)\n",
    "\n",
    "print('GBDT accuracy for training set: %f' % xg_cl.score(X_train, y_train))\n",
    "print('GBDT forest accuracy for test set: %f' % xg_cl.score(X_test, y_test))"
   ]
  },
  {
   "cell_type": "code",
   "execution_count": 38,
   "metadata": {},
   "outputs": [],
   "source": [
    "df_X = df[df.columns[df.columns != 'Class']].copy()\n",
    "df_y = df['Class'].copy()\n",
    "\n",
    "x_train, x_val, y_train, y_val = train_test_split(df_X, df_y, test_size=0.30, random_state=4212)\n",
    "x_val, x_test, y_val, y_test = train_test_split(x_val, y_val, test_size=0.50, random_state=4212)\n",
    "\n",
    "# Transfer data\n",
    "x_train = x_train.to_numpy()\n",
    "y_train = y_train.to_numpy().squeeze()\n",
    "x_test = x_test.to_numpy()\n",
    "y_test = y_test.to_numpy().squeeze()\n",
    "x_val = x_val.to_numpy()\n",
    "y_val = y_val.to_numpy().squeeze()"
   ]
  },
  {
   "cell_type": "code",
   "execution_count": 50,
   "metadata": {},
   "outputs": [
    {
     "name": "stdout",
     "output_type": "stream",
     "text": [
      "Device used : cpu\n",
      "epoch 0  | loss: 2.55623 | val_0_accuracy: 0.05079 |  0:00:00s\n",
      "epoch 1  | loss: 2.15257 | val_0_accuracy: 0.06321 |  0:00:00s\n",
      "epoch 2  | loss: 1.95738 | val_0_accuracy: 0.11061 |  0:00:01s\n",
      "epoch 3  | loss: 1.83437 | val_0_accuracy: 0.23589 |  0:00:01s\n",
      "epoch 4  | loss: 1.74954 | val_0_accuracy: 0.29853 |  0:00:02s\n",
      "epoch 5  | loss: 1.69081 | val_0_accuracy: 0.28499 |  0:00:02s\n",
      "epoch 6  | loss: 1.65066 | val_0_accuracy: 0.27878 |  0:00:03s\n",
      "epoch 7  | loss: 1.61509 | val_0_accuracy: 0.30587 |  0:00:03s\n",
      "epoch 8  | loss: 1.59042 | val_0_accuracy: 0.31038 |  0:00:04s\n",
      "epoch 9  | loss: 1.57172 | val_0_accuracy: 0.32562 |  0:00:04s\n",
      "epoch 10 | loss: 1.54484 | val_0_accuracy: 0.3228  |  0:00:05s\n",
      "epoch 11 | loss: 1.53012 | val_0_accuracy: 0.31659 |  0:00:05s\n",
      "epoch 12 | loss: 1.52414 | val_0_accuracy: 0.31603 |  0:00:06s\n",
      "epoch 13 | loss: 1.50571 | val_0_accuracy: 0.30869 |  0:00:06s\n",
      "epoch 14 | loss: 1.49991 | val_0_accuracy: 0.33352 |  0:00:07s\n",
      "epoch 15 | loss: 1.48877 | val_0_accuracy: 0.33634 |  0:00:07s\n",
      "epoch 16 | loss: 1.47858 | val_0_accuracy: 0.32619 |  0:00:08s\n",
      "epoch 17 | loss: 1.48825 | val_0_accuracy: 0.35892 |  0:00:08s\n",
      "epoch 18 | loss: 1.45966 | val_0_accuracy: 0.35271 |  0:00:09s\n",
      "epoch 19 | loss: 1.4505  | val_0_accuracy: 0.35271 |  0:00:09s\n",
      "epoch 20 | loss: 1.45512 | val_0_accuracy: 0.35045 |  0:00:09s\n",
      "epoch 21 | loss: 1.45401 | val_0_accuracy: 0.35948 |  0:00:10s\n",
      "epoch 22 | loss: 1.43713 | val_0_accuracy: 0.35609 |  0:00:10s\n",
      "epoch 23 | loss: 1.44528 | val_0_accuracy: 0.37472 |  0:00:11s\n",
      "epoch 24 | loss: 1.44627 | val_0_accuracy: 0.3877  |  0:00:11s\n",
      "epoch 25 | loss: 1.45142 | val_0_accuracy: 0.3781  |  0:00:12s\n",
      "epoch 26 | loss: 1.45906 | val_0_accuracy: 0.38375 |  0:00:12s\n",
      "epoch 27 | loss: 1.43674 | val_0_accuracy: 0.40237 |  0:00:13s\n",
      "epoch 28 | loss: 1.4332  | val_0_accuracy: 0.3956  |  0:00:13s\n",
      "epoch 29 | loss: 1.425   | val_0_accuracy: 0.40745 |  0:00:14s\n",
      "epoch 30 | loss: 1.41352 | val_0_accuracy: 0.4035  |  0:00:14s\n",
      "epoch 31 | loss: 1.41129 | val_0_accuracy: 0.41366 |  0:00:15s\n",
      "epoch 32 | loss: 1.39148 | val_0_accuracy: 0.40858 |  0:00:15s\n",
      "epoch 33 | loss: 1.39491 | val_0_accuracy: 0.40688 |  0:00:16s\n",
      "epoch 34 | loss: 1.39005 | val_0_accuracy: 0.41027 |  0:00:16s\n",
      "epoch 35 | loss: 1.38345 | val_0_accuracy: 0.41422 |  0:00:17s\n",
      "epoch 36 | loss: 1.37268 | val_0_accuracy: 0.44074 |  0:00:17s\n",
      "epoch 37 | loss: 1.37186 | val_0_accuracy: 0.45485 |  0:00:17s\n",
      "epoch 38 | loss: 1.3637  | val_0_accuracy: 0.4526  |  0:00:18s\n",
      "epoch 39 | loss: 1.36178 | val_0_accuracy: 0.4447  |  0:00:18s\n",
      "epoch 40 | loss: 1.35915 | val_0_accuracy: 0.44752 |  0:00:19s\n",
      "epoch 41 | loss: 1.34824 | val_0_accuracy: 0.4447  |  0:00:19s\n",
      "epoch 42 | loss: 1.35033 | val_0_accuracy: 0.46783 |  0:00:20s\n",
      "epoch 43 | loss: 1.34433 | val_0_accuracy: 0.44582 |  0:00:20s\n",
      "epoch 44 | loss: 1.33657 | val_0_accuracy: 0.46106 |  0:00:21s\n",
      "epoch 45 | loss: 1.34399 | val_0_accuracy: 0.44413 |  0:00:21s\n",
      "epoch 46 | loss: 1.33982 | val_0_accuracy: 0.45993 |  0:00:22s\n",
      "epoch 47 | loss: 1.33201 | val_0_accuracy: 0.44695 |  0:00:22s\n",
      "epoch 48 | loss: 1.33669 | val_0_accuracy: 0.47178 |  0:00:23s\n",
      "epoch 49 | loss: 1.33355 | val_0_accuracy: 0.45937 |  0:00:23s\n",
      "epoch 50 | loss: 1.329   | val_0_accuracy: 0.46783 |  0:00:23s\n",
      "epoch 51 | loss: 1.3327  | val_0_accuracy: 0.4605  |  0:00:24s\n",
      "epoch 52 | loss: 1.3324  | val_0_accuracy: 0.47122 |  0:00:24s\n",
      "epoch 53 | loss: 1.31399 | val_0_accuracy: 0.46614 |  0:00:25s\n",
      "epoch 54 | loss: 1.32839 | val_0_accuracy: 0.46219 |  0:00:25s\n",
      "epoch 55 | loss: 1.31857 | val_0_accuracy: 0.45655 |  0:00:26s\n",
      "epoch 56 | loss: 1.31687 | val_0_accuracy: 0.48025 |  0:00:26s\n",
      "epoch 57 | loss: 1.31082 | val_0_accuracy: 0.47122 |  0:00:27s\n",
      "epoch 58 | loss: 1.30239 | val_0_accuracy: 0.47743 |  0:00:27s\n",
      "epoch 59 | loss: 1.30411 | val_0_accuracy: 0.47065 |  0:00:28s\n",
      "epoch 60 | loss: 1.3024  | val_0_accuracy: 0.47912 |  0:00:28s\n",
      "epoch 61 | loss: 1.29969 | val_0_accuracy: 0.48194 |  0:00:29s\n",
      "epoch 62 | loss: 1.29894 | val_0_accuracy: 0.47065 |  0:00:29s\n",
      "epoch 63 | loss: 1.30075 | val_0_accuracy: 0.47686 |  0:00:29s\n",
      "epoch 64 | loss: 1.28904 | val_0_accuracy: 0.48194 |  0:00:30s\n",
      "epoch 65 | loss: 1.28594 | val_0_accuracy: 0.47517 |  0:00:31s\n",
      "epoch 66 | loss: 1.29329 | val_0_accuracy: 0.47856 |  0:00:31s\n",
      "epoch 67 | loss: 1.29583 | val_0_accuracy: 0.47912 |  0:00:31s\n",
      "epoch 68 | loss: 1.29577 | val_0_accuracy: 0.4763  |  0:00:32s\n",
      "epoch 69 | loss: 1.29919 | val_0_accuracy: 0.48533 |  0:00:32s\n",
      "epoch 70 | loss: 1.29063 | val_0_accuracy: 0.48476 |  0:00:33s\n",
      "epoch 71 | loss: 1.28572 | val_0_accuracy: 0.48758 |  0:00:33s\n",
      "epoch 72 | loss: 1.28421 | val_0_accuracy: 0.49041 |  0:00:34s\n",
      "epoch 73 | loss: 1.28439 | val_0_accuracy: 0.47291 |  0:00:34s\n",
      "epoch 74 | loss: 1.28844 | val_0_accuracy: 0.48758 |  0:00:35s\n",
      "epoch 75 | loss: 1.27821 | val_0_accuracy: 0.48646 |  0:00:35s\n",
      "epoch 76 | loss: 1.27502 | val_0_accuracy: 0.48589 |  0:00:36s\n",
      "epoch 77 | loss: 1.27184 | val_0_accuracy: 0.48702 |  0:00:36s\n",
      "epoch 78 | loss: 1.27491 | val_0_accuracy: 0.49153 |  0:00:36s\n",
      "epoch 79 | loss: 1.27689 | val_0_accuracy: 0.48025 |  0:00:37s\n",
      "epoch 80 | loss: 1.28124 | val_0_accuracy: 0.48307 |  0:00:37s\n",
      "epoch 81 | loss: 1.28461 | val_0_accuracy: 0.49266 |  0:00:38s\n",
      "epoch 82 | loss: 1.28096 | val_0_accuracy: 0.49436 |  0:00:38s\n",
      "epoch 83 | loss: 1.27684 | val_0_accuracy: 0.49492 |  0:00:39s\n",
      "epoch 84 | loss: 1.27303 | val_0_accuracy: 0.48251 |  0:00:39s\n",
      "epoch 85 | loss: 1.27027 | val_0_accuracy: 0.49661 |  0:00:40s\n",
      "epoch 86 | loss: 1.26548 | val_0_accuracy: 0.49436 |  0:00:40s\n",
      "epoch 87 | loss: 1.26353 | val_0_accuracy: 0.49041 |  0:00:41s\n",
      "epoch 88 | loss: 1.26641 | val_0_accuracy: 0.49605 |  0:00:41s\n",
      "epoch 89 | loss: 1.26101 | val_0_accuracy: 0.49266 |  0:00:42s\n",
      "epoch 90 | loss: 1.25796 | val_0_accuracy: 0.49718 |  0:00:42s\n",
      "epoch 91 | loss: 1.26667 | val_0_accuracy: 0.49492 |  0:00:43s\n",
      "epoch 92 | loss: 1.25361 | val_0_accuracy: 0.50056 |  0:00:43s\n",
      "epoch 93 | loss: 1.24491 | val_0_accuracy: 0.5     |  0:00:43s\n",
      "epoch 94 | loss: 1.25674 | val_0_accuracy: 0.50564 |  0:00:44s\n",
      "epoch 95 | loss: 1.2583  | val_0_accuracy: 0.49153 |  0:00:44s\n",
      "epoch 96 | loss: 1.25606 | val_0_accuracy: 0.50564 |  0:00:45s\n",
      "epoch 97 | loss: 1.25375 | val_0_accuracy: 0.5     |  0:00:45s\n",
      "epoch 98 | loss: 1.25055 | val_0_accuracy: 0.48871 |  0:00:46s\n",
      "epoch 99 | loss: 1.25141 | val_0_accuracy: 0.50677 |  0:00:46s\n",
      "epoch 100| loss: 1.247   | val_0_accuracy: 0.50621 |  0:00:47s\n",
      "epoch 101| loss: 1.2366  | val_0_accuracy: 0.50282 |  0:00:47s\n",
      "epoch 102| loss: 1.23973 | val_0_accuracy: 0.50508 |  0:00:48s\n",
      "epoch 103| loss: 1.24367 | val_0_accuracy: 0.5     |  0:00:48s\n",
      "epoch 104| loss: 1.2471  | val_0_accuracy: 0.49379 |  0:00:49s\n",
      "epoch 105| loss: 1.25167 | val_0_accuracy: 0.49661 |  0:00:49s\n",
      "epoch 106| loss: 1.24755 | val_0_accuracy: 0.49323 |  0:00:49s\n",
      "epoch 107| loss: 1.24926 | val_0_accuracy: 0.49153 |  0:00:50s\n",
      "epoch 108| loss: 1.25535 | val_0_accuracy: 0.49436 |  0:00:50s\n",
      "epoch 109| loss: 1.25606 | val_0_accuracy: 0.48758 |  0:00:51s\n",
      "\n",
      "Early stopping occurred at epoch 109 with best_epoch = 99 and best_val_0_accuracy = 0.50677\n",
      "Best weights from best epoch are automatically used!\n"
     ]
    }
   ],
   "source": [
    "import pytorch_tabnet\n",
    "from pytorch_tabnet.tab_model import TabNetClassifier\n",
    "import torch\n",
    "\n",
    "from sklearn.preprocessing import LabelEncoder\n",
    "from sklearn.metrics import roc_auc_score, accuracy_score\n",
    "\n",
    "# Use Default option to test TabNet\n",
    "clf1 = TabNetClassifier()\n",
    "clf1.fit(x_train,y_train,max_epochs=1000)"
   ]
  },
  {
   "cell_type": "code",
   "execution_count": 58,
   "metadata": {},
   "outputs": [
    {
     "name": "stdout",
     "output_type": "stream",
     "text": [
      "BEST ACCURACY SCORE ON TRAINING SET : 0.5223122505744346\n",
      "BEST ACCURACY SCORE ON VALIDATION SET : 0.5067720090293454\n",
      "BEST ACCURACY SCORE ON TEST SET : 0.47799097065462753\n"
     ]
    },
    {
     "data": {
      "image/png": "[encoded data removed]",
      "text/plain": [
       "<Figure size 432x288 with 1 Axes>"
      ]
     },
     "metadata": {
      "needs_background": "light"
     },
     "output_type": "display_data"
    }
   ],
   "source": [
    "# plot losses\n",
    "plt.plot(clf1.history['loss'])\n",
    "\n",
    "# find and plot feature importance\n",
    "y_pred = clf1.predict(x_test)\n",
    "clf1.feature_importances_\n",
    "\n",
    "# determine best accuracy for training set\n",
    "preds = clf1.predict(x_train)\n",
    "train_acc = accuracy_score(preds, y_train)\n",
    "\n",
    "# determine best accuracy for test set\n",
    "preds = clf1.predict(x_test)\n",
    "test_acc = accuracy_score(preds, y_test)\n",
    "\n",
    "# determine best accuracy for validation set\n",
    "preds_valid = clf1.predict(x_val)\n",
    "valid_acc = accuracy_score(preds_valid, y_val)\n",
    "\n",
    "print(f\"BEST ACCURACY SCORE ON TRAINING SET : {train_acc}\")\n",
    "print(f\"BEST ACCURACY SCORE ON VALIDATION SET : {valid_acc}\")\n",
    "print(f\"BEST ACCURACY SCORE ON TEST SET : {test_acc}\")"
   ]
  },
  {
   "cell_type": "code",
   "execution_count": 53,
   "metadata": {},
   "outputs": [],
   "source": [
    "%%capture\n",
    "# define the model\n",
    "clf1_1 = TabNetClassifier(optimizer_fn=torch.optim.Adam,\n",
    "                       optimizer_params=dict(lr=2e-2),\n",
    "                       scheduler_params={\"step_size\":10, # how to use learning rate scheduler\n",
    "                                         \"gamma\":0.9},\n",
    "                       scheduler_fn=torch.optim.lr_scheduler.StepLR,\n",
    "                       mask_type='entmax' # \"sparsemax\"\n",
    "                      )\n",
    "\n",
    "# fit the model \n",
    "clf1_1.fit(\n",
    "    x_train,y_train,\n",
    "    eval_set=[(x_train, y_train), (x_val, y_val)],\n",
    "    eval_name=['train', 'valid'],\n",
    "    eval_metric=['accuracy'],\n",
    "    max_epochs=1000 , patience=50,\n",
    "    batch_size=256, virtual_batch_size=128,\n",
    "    num_workers=0,\n",
    "    weights=1,\n",
    "    drop_last=False\n",
    ") "
   ]
  },
  {
   "cell_type": "code",
   "execution_count": 57,
   "metadata": {},
   "outputs": [
    {
     "name": "stdout",
     "output_type": "stream",
     "text": [
      "BEST ACCURACY SCORE ON TRAINING SET : 0.5286007981618092\n",
      "BEST ACCURACY SCORE ON VALIDATION SET : 0.45654627539503384\n",
      "BEST ACCURACY SCORE ON TEST SET : 0.4469525959367946\n"
     ]
    },
    {
     "data": {
      "image/png": "[encoded data removed]",
      "text/plain": [
       "<Figure size 432x288 with 1 Axes>"
      ]
     },
     "metadata": {
      "needs_background": "light"
     },
     "output_type": "display_data"
    }
   ],
   "source": [
    "# plot losses\n",
    "plt.plot(clf1_1.history['loss'])\n",
    "\n",
    "# find and plot feature importance\n",
    "y_pred = clf1_1.predict(x_test)\n",
    "clf1_1.feature_importances_\n",
    "\n",
    "# determine best accuracy for training set\n",
    "preds = clf1_1.predict(x_train)\n",
    "train_acc = accuracy_score(preds, y_train)\n",
    "\n",
    "# determine best accuracy for test set\n",
    "preds = clf1_1.predict(x_test)\n",
    "test_acc = accuracy_score(preds, y_test)\n",
    "\n",
    "# determine best accuracy for validation set\n",
    "preds_valid = clf1_1.predict(x_val)\n",
    "valid_acc = accuracy_score(preds_valid, y_val)\n",
    "\n",
    "print(f\"BEST ACCURACY SCORE ON TRAINING SET : {train_acc}\")\n",
    "print(f\"BEST ACCURACY SCORE ON VALIDATION SET : {valid_acc}\")\n",
    "print(f\"BEST ACCURACY SCORE ON TEST SET : {test_acc}\")"
   ]
  },
  {
   "cell_type": "code",
   "execution_count": 61,
   "metadata": {},
   "outputs": [],
   "source": [
    "x_train2, x_test2, y_train2, y_test2 = train_test_split(df_X, df_y, test_size=0.20, random_state=4212)\n",
    "\n",
    "# Transfer data\n",
    "x_train2 = x_train2.to_numpy()\n",
    "y_train2 = y_train2.to_numpy().squeeze()\n",
    "x_test2 = x_test2.to_numpy()\n",
    "y_test2 = y_test2.to_numpy().squeeze()"
   ]
  },
  {
   "cell_type": "code",
   "execution_count": 65,
   "metadata": {},
   "outputs": [
    {
     "name": "stdout",
     "output_type": "stream",
     "text": [
      "Device used : cpu\n",
      "No early stopping will be performed, last training weights will be used.\n",
      "epoch 0  | loss: 2.52034 |  0:00:00s\n",
      "epoch 1  | loss: 2.12615 |  0:00:00s\n",
      "epoch 2  | loss: 1.9401  |  0:00:01s\n",
      "epoch 3  | loss: 1.82162 |  0:00:01s\n",
      "epoch 4  | loss: 1.73627 |  0:00:02s\n",
      "epoch 5  | loss: 1.70205 |  0:00:02s\n",
      "epoch 6  | loss: 1.66283 |  0:00:03s\n",
      "epoch 7  | loss: 1.6222  |  0:00:03s\n",
      "epoch 8  | loss: 1.58557 |  0:00:04s\n",
      "epoch 9  | loss: 1.55925 |  0:00:04s\n",
      "epoch 10 | loss: 1.53451 |  0:00:05s\n",
      "epoch 11 | loss: 1.5229  |  0:00:05s\n",
      "epoch 12 | loss: 1.50763 |  0:00:06s\n",
      "epoch 13 | loss: 1.48811 |  0:00:06s\n",
      "epoch 14 | loss: 1.487   |  0:00:07s\n",
      "epoch 15 | loss: 1.4799  |  0:00:07s\n",
      "epoch 16 | loss: 1.46602 |  0:00:08s\n",
      "epoch 17 | loss: 1.46567 |  0:00:08s\n",
      "epoch 18 | loss: 1.4487  |  0:00:09s\n",
      "epoch 19 | loss: 1.44835 |  0:00:09s\n",
      "epoch 20 | loss: 1.43628 |  0:00:10s\n",
      "epoch 21 | loss: 1.42667 |  0:00:10s\n",
      "epoch 22 | loss: 1.42092 |  0:00:10s\n",
      "epoch 23 | loss: 1.41275 |  0:00:11s\n",
      "epoch 24 | loss: 1.41156 |  0:00:11s\n",
      "epoch 25 | loss: 1.423   |  0:00:12s\n",
      "epoch 26 | loss: 1.41166 |  0:00:12s\n",
      "epoch 27 | loss: 1.40477 |  0:00:13s\n",
      "epoch 28 | loss: 1.39211 |  0:00:13s\n",
      "epoch 29 | loss: 1.39232 |  0:00:14s\n",
      "epoch 30 | loss: 1.38291 |  0:00:14s\n",
      "epoch 31 | loss: 1.38008 |  0:00:15s\n",
      "epoch 32 | loss: 1.37329 |  0:00:15s\n",
      "epoch 33 | loss: 1.37076 |  0:00:16s\n",
      "epoch 34 | loss: 1.36451 |  0:00:16s\n",
      "epoch 35 | loss: 1.36136 |  0:00:17s\n",
      "epoch 36 | loss: 1.36161 |  0:00:17s\n",
      "epoch 37 | loss: 1.36419 |  0:00:18s\n",
      "epoch 38 | loss: 1.3577  |  0:00:18s\n",
      "epoch 39 | loss: 1.34807 |  0:00:19s\n",
      "epoch 40 | loss: 1.34717 |  0:00:19s\n",
      "epoch 41 | loss: 1.34873 |  0:00:20s\n",
      "epoch 42 | loss: 1.34001 |  0:00:20s\n",
      "epoch 43 | loss: 1.33252 |  0:00:21s\n",
      "epoch 44 | loss: 1.33561 |  0:00:21s\n",
      "epoch 45 | loss: 1.33205 |  0:00:22s\n",
      "epoch 46 | loss: 1.33437 |  0:00:22s\n",
      "epoch 47 | loss: 1.33761 |  0:00:23s\n",
      "epoch 48 | loss: 1.33428 |  0:00:23s\n",
      "epoch 49 | loss: 1.33096 |  0:00:24s\n",
      "epoch 50 | loss: 1.32413 |  0:00:24s\n",
      "epoch 51 | loss: 1.32847 |  0:00:25s\n",
      "epoch 52 | loss: 1.31943 |  0:00:25s\n",
      "epoch 53 | loss: 1.32302 |  0:00:26s\n",
      "epoch 54 | loss: 1.31776 |  0:00:26s\n",
      "epoch 55 | loss: 1.31141 |  0:00:26s\n",
      "epoch 56 | loss: 1.30677 |  0:00:27s\n",
      "epoch 57 | loss: 1.30847 |  0:00:27s\n",
      "epoch 58 | loss: 1.30431 |  0:00:28s\n",
      "epoch 59 | loss: 1.30533 |  0:00:28s\n",
      "epoch 60 | loss: 1.30311 |  0:00:29s\n",
      "epoch 61 | loss: 1.3021  |  0:00:29s\n",
      "epoch 62 | loss: 1.29693 |  0:00:30s\n",
      "epoch 63 | loss: 1.29776 |  0:00:30s\n",
      "epoch 64 | loss: 1.29417 |  0:00:31s\n",
      "epoch 65 | loss: 1.29325 |  0:00:31s\n",
      "epoch 66 | loss: 1.29255 |  0:00:32s\n",
      "epoch 67 | loss: 1.28988 |  0:00:32s\n",
      "epoch 68 | loss: 1.29033 |  0:00:33s\n",
      "epoch 69 | loss: 1.29193 |  0:00:33s\n",
      "epoch 70 | loss: 1.29    |  0:00:34s\n",
      "epoch 71 | loss: 1.29241 |  0:00:34s\n",
      "epoch 72 | loss: 1.2822  |  0:00:35s\n",
      "epoch 73 | loss: 1.28493 |  0:00:35s\n",
      "epoch 74 | loss: 1.28349 |  0:00:36s\n",
      "epoch 75 | loss: 1.28285 |  0:00:36s\n",
      "epoch 76 | loss: 1.28275 |  0:00:37s\n",
      "epoch 77 | loss: 1.27964 |  0:00:37s\n",
      "epoch 78 | loss: 1.27666 |  0:00:38s\n",
      "epoch 79 | loss: 1.27447 |  0:00:38s\n",
      "epoch 80 | loss: 1.26994 |  0:00:39s\n",
      "epoch 81 | loss: 1.26914 |  0:00:39s\n",
      "epoch 82 | loss: 1.27314 |  0:00:40s\n",
      "epoch 83 | loss: 1.26781 |  0:00:40s\n",
      "epoch 84 | loss: 1.26821 |  0:00:41s\n",
      "epoch 85 | loss: 1.26352 |  0:00:41s\n",
      "epoch 86 | loss: 1.26247 |  0:00:41s\n",
      "epoch 87 | loss: 1.25433 |  0:00:42s\n",
      "epoch 88 | loss: 1.2587  |  0:00:42s\n",
      "epoch 89 | loss: 1.27132 |  0:00:43s\n",
      "epoch 90 | loss: 1.2617  |  0:00:43s\n",
      "epoch 91 | loss: 1.24908 |  0:00:44s\n",
      "epoch 92 | loss: 1.2589  |  0:00:45s\n",
      "epoch 93 | loss: 1.25536 |  0:00:45s\n",
      "epoch 94 | loss: 1.25801 |  0:00:45s\n",
      "epoch 95 | loss: 1.25729 |  0:00:46s\n",
      "epoch 96 | loss: 1.25515 |  0:00:46s\n",
      "epoch 97 | loss: 1.24632 |  0:00:47s\n",
      "epoch 98 | loss: 1.24529 |  0:00:47s\n",
      "epoch 99 | loss: 1.24944 |  0:00:48s\n"
     ]
    }
   ],
   "source": [
    "# Use Default option to test TabNet\n",
    "clf2 = TabNetClassifier()\n",
    "clf2.fit(x_train2,y_train2)"
   ]
  },
  {
   "cell_type": "code",
   "execution_count": 66,
   "metadata": {},
   "outputs": [
    {
     "name": "stdout",
     "output_type": "stream",
     "text": [
      "BEST ACCURACY SCORE ON TRAINING SET : 0.522010582010582\n",
      "BEST ACCURACY SCORE ON TEST SET : 0.48201438848920863\n"
     ]
    },
    {
     "data": {
      "image/png": "[encoded data removed]",
      "text/plain": [
       "<Figure size 432x288 with 1 Axes>"
      ]
     },
     "metadata": {
      "needs_background": "light"
     },
     "output_type": "display_data"
    }
   ],
   "source": [
    "# plot losses\n",
    "plt.plot(clf2.history['loss'])\n",
    "\n",
    "# determine best accuracy for training set\n",
    "preds = clf2.predict(x_train2)\n",
    "train_acc2 = accuracy_score(preds, y_train2)\n",
    "\n",
    "# determine best accuracy for test set\n",
    "preds = clf2.predict(x_test2)\n",
    "test_acc2 = accuracy_score(preds, y_test2)\n",
    "\n",
    "print(f\"BEST ACCURACY SCORE ON TRAINING SET : {train_acc2}\")\n",
    "print(f\"BEST ACCURACY SCORE ON TEST SET : {test_acc2}\")"
   ]
  }
 ],
 "metadata": {
  "interpreter": {
   "hash": "8c937e174cfb2e891dbe4bc6be130f50f9ec153356d358396125ca9153f6efdb"
  },
  "kernelspec": {
   "display_name": "Python 3.10.2 64-bit",
   "language": "python",
   "name": "python3"
  },
  "language_info": {
   "codemirror_mode": {
    "name": "ipython",
    "version": 3
   },
   "file_extension": ".py",
   "mimetype": "text/x-python",
   "name": "python",
   "nbconvert_exporter": "python",
   "pygments_lexer": "ipython3",
   "version": "3.10.2"
  },
  "orig_nbformat": 4
 },
 "nbformat": 4,
 "nbformat_minor": 2
}
