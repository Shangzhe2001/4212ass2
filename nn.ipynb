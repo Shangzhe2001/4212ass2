{
  "nbformat": 4,
  "nbformat_minor": 0,
  "metadata": {
    "colab": {
      "name": "Untitled13.ipynb",
      "provenance": [],
      "collapsed_sections": [],
      "authorship_tag": "ABX9TyOA2FPdRYWAsfSWr+UNA1M+",
      "include_colab_link": true
    },
    "kernelspec": {
      "name": "python3",
      "display_name": "Python 3"
    },
    "language_info": {
      "name": "python"
    }
  },
  "cells": [
    {
      "cell_type": "markdown",
      "metadata": {
        "id": "view-in-github",
        "colab_type": "text"
      },
      "source": [
        "<a href=\"https://colab.research.google.com/github/Shangzhe2001/4212ass2/blob/main/nn.ipynb\" target=\"_parent\"><img src=\"https://colab.research.google.com/assets/colab-badge.svg\" alt=\"Open In Colab\"/></a>"
      ]
    },
    {
      "cell_type": "code",
      "source": [
        "from google.colab import drive\n",
        "drive.mount('/content/drive')"
      ],
      "metadata": {
        "id": "vTV3x0VK86bd",
        "colab": {
          "base_uri": "https://localhost:8080/"
        },
        "outputId": "1a25d47e-7b8f-4236-9554-829a45cfc606"
      },
      "execution_count": 21,
      "outputs": [
        {
          "output_type": "stream",
          "name": "stdout",
          "text": [
            "Mounted at /content/drive\n"
          ]
        }
      ]
    },
    {
      "cell_type": "markdown",
      "source": [
        "#  nn on music\n",
        "\n",
        "we use tensorflow to help us build the neural network, the idea is simple\n",
        "\n",
        "as it's a multi-class problem.\n",
        "we build a 3 dense layer with non-linear layer as relu;\n",
        "for the last non-linear  layer to the final output., we use the softmax function.\n",
        "\n",
        "reference : https://www.tensorflow.org/guide/keras/sequential_model?hl=zh-cn\n",
        "\n",
        "\n",
        "for the loss ：\n",
        "\n",
        "for the optimization , we use adam"
      ],
      "metadata": {
        "id": "SOgOJzQK86nv"
      }
    },
    {
      "cell_type": "code",
      "source": [
        "# deep learning package\n",
        "import tensorflow as tf\n",
        "print(\"TF version:-\", tf.__version__)\n",
        "import keras as k\n",
        "tf.random.set_seed(23)"
      ],
      "metadata": {
        "colab": {
          "base_uri": "https://localhost:8080/"
        },
        "id": "U1rG7KaMHyT3",
        "outputId": "edf793f5-b38c-499f-d63b-e85e3286b88d"
      },
      "execution_count": 25,
      "outputs": [
        {
          "output_type": "stream",
          "name": "stdout",
          "text": [
            "TF version:- 2.8.0\n"
          ]
        }
      ]
    },
    {
      "cell_type": "code",
      "source": [
        "# Set-Ups\n",
        "import csv\n",
        "import math\n",
        "import random\n",
        "import string\n",
        "import numpy as np\n",
        "import pandas as pd \n",
        "import pylab as plt\n",
        "\n",
        "# Load the data\n",
        "df = pd.read_csv(\"/content/drive/MyDrive/train.csv\", sep=\",\",skipinitialspace = True)\n",
        "#df = pd.read_csv(\"framingham.csv\", sep=\",\")\n",
        "## data split\n",
        "from sklearn.model_selection import train_test_split\n",
        "\n",
        "df = df.dropna()\n",
        "df = df.drop(columns=['Track Name'])\n",
        "df[\"Artist Name\"] = df[\"Artist Name\"].astype(str)\n",
        "\n",
        "from sklearn import preprocessing\n",
        "number = preprocessing.LabelEncoder()\n",
        "df[\"Artist Name\"] = number.fit_transform(df[\"Artist Name\"])\n",
        "\n",
        "df_X = df[df.columns[df.columns != 'Class']].copy()\n",
        "df_y = df['Class'].copy()\n",
        "\n",
        "\n",
        "X_train, test_valid_X, y_train, test_valid_y = train_test_split(df_X, df_y, test_size=0.2, random_state=0)\n",
        "print (\"Number of training instances: \", len(X_train), \"\\nNumber of test instances: \", len(test_valid_X)/2)\n",
        "\n",
        "X_dev, X_test, y_dev, y_test = train_test_split(test_valid_X, test_valid_y, train_size=0.5, random_state=0)\n",
        "                                                "
      ],
      "metadata": {
        "colab": {
          "base_uri": "https://localhost:8080/"
        },
        "id": "4cGmQW8J-XWG",
        "outputId": "afa79f50-2d72-4e15-c8f8-8fa81cca7297"
      },
      "execution_count": 22,
      "outputs": [
        {
          "output_type": "stream",
          "name": "stdout",
          "text": [
            "Number of training instances:  9450 \n",
            "Number of test instances:  1181.5\n"
          ]
        }
      ]
    },
    {
      "cell_type": "code",
      "source": [
        "df_y.max() # from 0 to 10, totally 11 "
      ],
      "metadata": {
        "colab": {
          "base_uri": "https://localhost:8080/"
        },
        "id": "aGDm-z9zIT8b",
        "outputId": "217caa53-ea0d-405c-fc52-6af64794443d"
      },
      "execution_count": 29,
      "outputs": [
        {
          "output_type": "execute_result",
          "data": {
            "text/plain": [
              "10"
            ]
          },
          "metadata": {},
          "execution_count": 29
        }
      ]
    },
    {
      "cell_type": "code",
      "source": [
        "X_train.shape[1]"
      ],
      "metadata": {
        "colab": {
          "base_uri": "https://localhost:8080/"
        },
        "id": "__DS2N9tJqTV",
        "outputId": "aeff7632-a1fe-4a86-fb35-6ae64f81180b"
      },
      "execution_count": 38,
      "outputs": [
        {
          "output_type": "execute_result",
          "data": {
            "text/plain": [
              "15"
            ]
          },
          "metadata": {},
          "execution_count": 38
        }
      ]
    },
    {
      "cell_type": "code",
      "source": [
        "def plotHistory(history):\n",
        "    print(\"Max. Validation Accuracy\",max(history.history[\"val_accuracy\"]))\n",
        "    pd.DataFrame(history.history).plot(figsize=(12,6))\n",
        "    plt.show()\n",
        "\n",
        "def trainModel(model, epochs, optimizer):\n",
        "    \n",
        "    \n",
        "    model.compile(optimizer=optimizer,\n",
        "                  loss='sparse_categorical_crossentropy',\n",
        "                  metrics='accuracy'\n",
        "    )\n",
        "\n",
        "    return model.fit(X_train, y_train, \n",
        "                     \n",
        "                     epochs=epochs, \n",
        "                     batch_size=64, \n",
        "                     validation_data=(X_dev, y_dev)\n",
        "\n",
        "                     )\n",
        "    \n",
        "\n",
        "model_1 = k.models.Sequential([\n",
        "    k.layers.Dense(128, activation='relu', input_shape=(X_train.shape[1],)),\n",
        "    k.layers.Dropout(0.4),\n",
        "    \n",
        "    # we add a dropout layer to avoid overfitting\n",
        "    k.layers.Dense(64, activation='relu'),\n",
        "    k.layers.Dropout(0.4),\n",
        "\n",
        "    k.layers.Dense(32, activation='relu'),\n",
        "    k.layers.Dropout(0.4),\n",
        "\n",
        "    k.layers.Dense(11, activation='softmax'),\n",
        "])\n",
        "\n",
        "print(model_1.summary())\n",
        "\n",
        "model_1_history = trainModel(model=model_1, epochs=100, optimizer= opt)\n",
        "\n",
        "# model  evaluation\n",
        "\n",
        "test_loss, test_acc  = model_1.evaluate(X_test, y_test, batch_size=128)\n",
        "print(\"The test Loss is :\",test_loss)\n",
        "print(\"\\nThe Best test Accuracy is :\",test_acc*100)"
      ],
      "metadata": {
        "id": "bAZoXuhm9a8s",
        "colab": {
          "base_uri": "https://localhost:8080/"
        },
        "outputId": "4a11e1a5-e49c-432c-e750-8cefeb874e50"
      },
      "execution_count": 46,
      "outputs": [
        {
          "output_type": "stream",
          "name": "stdout",
          "text": [
            "Model: \"sequential_9\"\n",
            "_________________________________________________________________\n",
            " Layer (type)                Output Shape              Param #   \n",
            "=================================================================\n",
            " dense_36 (Dense)            (None, 128)               2048      \n",
            "                                                                 \n",
            " dropout_27 (Dropout)        (None, 128)               0         \n",
            "                                                                 \n",
            " dense_37 (Dense)            (None, 64)                8256      \n",
            "                                                                 \n",
            " dropout_28 (Dropout)        (None, 64)                0         \n",
            "                                                                 \n",
            " dense_38 (Dense)            (None, 32)                2080      \n",
            "                                                                 \n",
            " dropout_29 (Dropout)        (None, 32)                0         \n",
            "                                                                 \n",
            " dense_39 (Dense)            (None, 11)                363       \n",
            "                                                                 \n",
            "=================================================================\n",
            "Total params: 12,747\n",
            "Trainable params: 12,747\n",
            "Non-trainable params: 0\n",
            "_________________________________________________________________\n",
            "None\n",
            "Epoch 1/100\n",
            "148/148 [==============================] - 3s 8ms/step - loss: 2321.7544 - accuracy: 0.2747 - val_loss: 2.0890 - val_accuracy: 0.2921\n",
            "Epoch 2/100\n",
            "148/148 [==============================] - 1s 5ms/step - loss: 15.5195 - accuracy: 0.2851 - val_loss: 2.0956 - val_accuracy: 0.2921\n",
            "Epoch 3/100\n",
            "148/148 [==============================] - 1s 5ms/step - loss: 2.0896 - accuracy: 0.2849 - val_loss: 2.0992 - val_accuracy: 0.2921\n",
            "Epoch 4/100\n",
            "148/148 [==============================] - 1s 5ms/step - loss: 2.2448 - accuracy: 0.2849 - val_loss: 2.0973 - val_accuracy: 0.2921\n",
            "Epoch 5/100\n",
            "148/148 [==============================] - 1s 6ms/step - loss: 2.1344 - accuracy: 0.2849 - val_loss: 2.0964 - val_accuracy: 0.2921\n",
            "Epoch 6/100\n",
            "148/148 [==============================] - 1s 5ms/step - loss: 2.0891 - accuracy: 0.2849 - val_loss: 2.0937 - val_accuracy: 0.2921\n",
            "Epoch 7/100\n",
            "148/148 [==============================] - 1s 5ms/step - loss: 2.2879 - accuracy: 0.2848 - val_loss: 2.0968 - val_accuracy: 0.2921\n",
            "Epoch 8/100\n",
            "148/148 [==============================] - 1s 5ms/step - loss: 2.0876 - accuracy: 0.2849 - val_loss: 126.8744 - val_accuracy: 0.2879\n",
            "Epoch 9/100\n",
            "148/148 [==============================] - 1s 5ms/step - loss: 328.5965 - accuracy: 0.2839 - val_loss: 2.0940 - val_accuracy: 0.2921\n",
            "Epoch 10/100\n",
            "148/148 [==============================] - 1s 5ms/step - loss: 2.0886 - accuracy: 0.2849 - val_loss: 2.0908 - val_accuracy: 0.2921\n",
            "Epoch 11/100\n",
            "148/148 [==============================] - 1s 5ms/step - loss: 2.0885 - accuracy: 0.2849 - val_loss: 2.0957 - val_accuracy: 0.2921\n",
            "Epoch 12/100\n",
            "148/148 [==============================] - 1s 4ms/step - loss: 2.0892 - accuracy: 0.2834 - val_loss: 2.0949 - val_accuracy: 0.2921\n",
            "Epoch 13/100\n",
            "148/148 [==============================] - 0s 3ms/step - loss: 2.0911 - accuracy: 0.2849 - val_loss: 2.1004 - val_accuracy: 0.2921\n",
            "Epoch 14/100\n",
            "148/148 [==============================] - 0s 3ms/step - loss: 2.0890 - accuracy: 0.2849 - val_loss: 2.0936 - val_accuracy: 0.2921\n",
            "Epoch 15/100\n",
            "148/148 [==============================] - 0s 3ms/step - loss: 2.0882 - accuracy: 0.2849 - val_loss: 2.0979 - val_accuracy: 0.2921\n",
            "Epoch 16/100\n",
            "148/148 [==============================] - 0s 3ms/step - loss: 2.0883 - accuracy: 0.2849 - val_loss: 2.1047 - val_accuracy: 0.2921\n",
            "Epoch 17/100\n",
            "148/148 [==============================] - 0s 3ms/step - loss: 2.0897 - accuracy: 0.2849 - val_loss: 2.0893 - val_accuracy: 0.2921\n",
            "Epoch 18/100\n",
            "148/148 [==============================] - 0s 3ms/step - loss: 2.0884 - accuracy: 0.2849 - val_loss: 2.0975 - val_accuracy: 0.2921\n",
            "Epoch 19/100\n",
            "148/148 [==============================] - 0s 3ms/step - loss: 2.0890 - accuracy: 0.2849 - val_loss: 2.1012 - val_accuracy: 0.2921\n",
            "Epoch 20/100\n",
            "148/148 [==============================] - 0s 3ms/step - loss: 2.0887 - accuracy: 0.2849 - val_loss: 2.0917 - val_accuracy: 0.2921\n",
            "Epoch 21/100\n",
            "148/148 [==============================] - 0s 3ms/step - loss: 2.0890 - accuracy: 0.2849 - val_loss: 2.0973 - val_accuracy: 0.2921\n",
            "Epoch 22/100\n",
            "148/148 [==============================] - 0s 3ms/step - loss: 2.0880 - accuracy: 0.2849 - val_loss: 2.0924 - val_accuracy: 0.2921\n",
            "Epoch 23/100\n",
            "148/148 [==============================] - 0s 3ms/step - loss: 2.0892 - accuracy: 0.2849 - val_loss: 2.0923 - val_accuracy: 0.2921\n",
            "Epoch 24/100\n",
            "148/148 [==============================] - 0s 3ms/step - loss: 2.0892 - accuracy: 0.2849 - val_loss: 2.0943 - val_accuracy: 0.2921\n",
            "Epoch 25/100\n",
            "148/148 [==============================] - 0s 3ms/step - loss: 2.0891 - accuracy: 0.2849 - val_loss: 2.0947 - val_accuracy: 0.2921\n",
            "Epoch 26/100\n",
            "148/148 [==============================] - 0s 3ms/step - loss: 2.0877 - accuracy: 0.2820 - val_loss: 2.0988 - val_accuracy: 0.2921\n",
            "Epoch 27/100\n",
            "148/148 [==============================] - 0s 3ms/step - loss: 2.0889 - accuracy: 0.2849 - val_loss: 2.0902 - val_accuracy: 0.2921\n",
            "Epoch 28/100\n",
            "148/148 [==============================] - 1s 4ms/step - loss: 2.0907 - accuracy: 0.2849 - val_loss: 2.1040 - val_accuracy: 0.2921\n",
            "Epoch 29/100\n",
            "148/148 [==============================] - 0s 3ms/step - loss: 2.0887 - accuracy: 0.2849 - val_loss: 2.0890 - val_accuracy: 0.2921\n",
            "Epoch 30/100\n",
            "148/148 [==============================] - 0s 3ms/step - loss: 2.0881 - accuracy: 0.2849 - val_loss: 2.0919 - val_accuracy: 0.2921\n",
            "Epoch 31/100\n",
            "148/148 [==============================] - 0s 3ms/step - loss: 2.0890 - accuracy: 0.2849 - val_loss: 2.0989 - val_accuracy: 0.2921\n",
            "Epoch 32/100\n",
            "148/148 [==============================] - 0s 3ms/step - loss: 2.0889 - accuracy: 0.2849 - val_loss: 2.0992 - val_accuracy: 0.2921\n",
            "Epoch 33/100\n",
            "148/148 [==============================] - 0s 3ms/step - loss: 2.0905 - accuracy: 0.2849 - val_loss: 2.0927 - val_accuracy: 0.2921\n",
            "Epoch 34/100\n",
            "148/148 [==============================] - 0s 3ms/step - loss: 2.0894 - accuracy: 0.2849 - val_loss: 2.0879 - val_accuracy: 0.2921\n",
            "Epoch 35/100\n",
            "148/148 [==============================] - 0s 3ms/step - loss: 2.0858 - accuracy: 0.2817 - val_loss: 2.0881 - val_accuracy: 0.2921\n",
            "Epoch 36/100\n",
            "148/148 [==============================] - 0s 3ms/step - loss: 2.0893 - accuracy: 0.2849 - val_loss: 2.0978 - val_accuracy: 0.2921\n",
            "Epoch 37/100\n",
            "148/148 [==============================] - 0s 3ms/step - loss: 2.0895 - accuracy: 0.2849 - val_loss: 2.1068 - val_accuracy: 0.2921\n",
            "Epoch 38/100\n",
            "148/148 [==============================] - 0s 3ms/step - loss: 2.0894 - accuracy: 0.2849 - val_loss: 2.0920 - val_accuracy: 0.2921\n",
            "Epoch 39/100\n",
            "148/148 [==============================] - 0s 3ms/step - loss: 2.0877 - accuracy: 0.2849 - val_loss: 2.0976 - val_accuracy: 0.2921\n",
            "Epoch 40/100\n",
            "148/148 [==============================] - 0s 3ms/step - loss: 2.0856 - accuracy: 0.2849 - val_loss: 2.1036 - val_accuracy: 0.2921\n",
            "Epoch 41/100\n",
            "148/148 [==============================] - 0s 3ms/step - loss: 2.0886 - accuracy: 0.2849 - val_loss: 2.0888 - val_accuracy: 0.2921\n",
            "Epoch 42/100\n",
            "148/148 [==============================] - 0s 3ms/step - loss: 2.0890 - accuracy: 0.2849 - val_loss: 2.0906 - val_accuracy: 0.2921\n",
            "Epoch 43/100\n",
            "148/148 [==============================] - 0s 3ms/step - loss: 2.0893 - accuracy: 0.2849 - val_loss: 2.0938 - val_accuracy: 0.2921\n",
            "Epoch 44/100\n",
            "148/148 [==============================] - 0s 3ms/step - loss: 2.0882 - accuracy: 0.2849 - val_loss: 2.0932 - val_accuracy: 0.2921\n",
            "Epoch 45/100\n",
            "148/148 [==============================] - 0s 3ms/step - loss: 2.0878 - accuracy: 0.2836 - val_loss: 2.0999 - val_accuracy: 0.2921\n",
            "Epoch 46/100\n",
            "148/148 [==============================] - 0s 3ms/step - loss: 2.0906 - accuracy: 0.2849 - val_loss: 2.0931 - val_accuracy: 0.2921\n",
            "Epoch 47/100\n",
            "148/148 [==============================] - 0s 3ms/step - loss: 2.0881 - accuracy: 0.2849 - val_loss: 2.0909 - val_accuracy: 0.2921\n",
            "Epoch 48/100\n",
            "148/148 [==============================] - 0s 3ms/step - loss: 2.0899 - accuracy: 0.2849 - val_loss: 2.0939 - val_accuracy: 0.2921\n",
            "Epoch 49/100\n",
            "148/148 [==============================] - 0s 3ms/step - loss: 2.0893 - accuracy: 0.2849 - val_loss: 2.1131 - val_accuracy: 0.1651\n",
            "Epoch 50/100\n",
            "148/148 [==============================] - 0s 3ms/step - loss: 2.0903 - accuracy: 0.2811 - val_loss: 2.0902 - val_accuracy: 0.2921\n",
            "Epoch 51/100\n",
            "148/148 [==============================] - 0s 3ms/step - loss: 2.0879 - accuracy: 0.2849 - val_loss: 2.0970 - val_accuracy: 0.2921\n",
            "Epoch 52/100\n",
            "148/148 [==============================] - 0s 3ms/step - loss: 2.0869 - accuracy: 0.2849 - val_loss: 2.0985 - val_accuracy: 0.2921\n",
            "Epoch 53/100\n",
            "148/148 [==============================] - 0s 3ms/step - loss: 2.0889 - accuracy: 0.2849 - val_loss: 2.0982 - val_accuracy: 0.2921\n",
            "Epoch 54/100\n",
            "148/148 [==============================] - 0s 3ms/step - loss: 2.0898 - accuracy: 0.2848 - val_loss: 2.0964 - val_accuracy: 0.2921\n",
            "Epoch 55/100\n",
            "148/148 [==============================] - 0s 3ms/step - loss: 2.0860 - accuracy: 0.2849 - val_loss: 2.1145 - val_accuracy: 0.2921\n",
            "Epoch 56/100\n",
            "148/148 [==============================] - 0s 3ms/step - loss: 2.0875 - accuracy: 0.2815 - val_loss: 2.0973 - val_accuracy: 0.2921\n",
            "Epoch 57/100\n",
            "148/148 [==============================] - 0s 3ms/step - loss: 2.0909 - accuracy: 0.2849 - val_loss: 2.0945 - val_accuracy: 0.2921\n",
            "Epoch 58/100\n",
            "148/148 [==============================] - 0s 3ms/step - loss: 2.0878 - accuracy: 0.2849 - val_loss: 2.0884 - val_accuracy: 0.2921\n",
            "Epoch 59/100\n",
            "148/148 [==============================] - 0s 3ms/step - loss: 2.0873 - accuracy: 0.2849 - val_loss: 2.0946 - val_accuracy: 0.2921\n",
            "Epoch 60/100\n",
            "148/148 [==============================] - 0s 3ms/step - loss: 2.0906 - accuracy: 0.2849 - val_loss: 2.0976 - val_accuracy: 0.2921\n",
            "Epoch 61/100\n",
            "148/148 [==============================] - 0s 3ms/step - loss: 2.0874 - accuracy: 0.2849 - val_loss: 2.0912 - val_accuracy: 0.2921\n",
            "Epoch 62/100\n",
            "148/148 [==============================] - 0s 3ms/step - loss: 2.0892 - accuracy: 0.2849 - val_loss: 2.0999 - val_accuracy: 0.2921\n",
            "Epoch 63/100\n",
            "148/148 [==============================] - 1s 5ms/step - loss: 2.0881 - accuracy: 0.2850 - val_loss: 2.0988 - val_accuracy: 0.2921\n",
            "Epoch 64/100\n",
            "148/148 [==============================] - 1s 5ms/step - loss: 2.0890 - accuracy: 0.2849 - val_loss: 2.0974 - val_accuracy: 0.2921\n",
            "Epoch 65/100\n",
            "148/148 [==============================] - 1s 4ms/step - loss: 2.0921 - accuracy: 0.2849 - val_loss: 2.0900 - val_accuracy: 0.2921\n",
            "Epoch 66/100\n",
            "148/148 [==============================] - 1s 5ms/step - loss: 2.0875 - accuracy: 0.2849 - val_loss: 2.1211 - val_accuracy: 0.2921\n",
            "Epoch 67/100\n",
            "148/148 [==============================] - 1s 7ms/step - loss: 2.0923 - accuracy: 0.2849 - val_loss: 2.0918 - val_accuracy: 0.2921\n",
            "Epoch 68/100\n",
            "148/148 [==============================] - 1s 5ms/step - loss: 2.0928 - accuracy: 0.2849 - val_loss: 2.0921 - val_accuracy: 0.2921\n",
            "Epoch 69/100\n",
            "148/148 [==============================] - 0s 3ms/step - loss: 2.0895 - accuracy: 0.2849 - val_loss: 2.0995 - val_accuracy: 0.2921\n",
            "Epoch 70/100\n",
            "148/148 [==============================] - 0s 3ms/step - loss: 2.0907 - accuracy: 0.2849 - val_loss: 2.0997 - val_accuracy: 0.2921\n",
            "Epoch 71/100\n",
            "148/148 [==============================] - 0s 3ms/step - loss: 2.0908 - accuracy: 0.2849 - val_loss: 2.0947 - val_accuracy: 0.2921\n",
            "Epoch 72/100\n",
            "148/148 [==============================] - 0s 3ms/step - loss: 2.0879 - accuracy: 0.2849 - val_loss: 2.0938 - val_accuracy: 0.2921\n",
            "Epoch 73/100\n",
            "148/148 [==============================] - 0s 3ms/step - loss: 2.0870 - accuracy: 0.2849 - val_loss: 2.0945 - val_accuracy: 0.2921\n",
            "Epoch 74/100\n",
            "148/148 [==============================] - 0s 3ms/step - loss: 2.0904 - accuracy: 0.2849 - val_loss: 2.0935 - val_accuracy: 0.2921\n",
            "Epoch 75/100\n",
            "148/148 [==============================] - 0s 3ms/step - loss: 2.0869 - accuracy: 0.2849 - val_loss: 2.0986 - val_accuracy: 0.2921\n",
            "Epoch 76/100\n",
            "148/148 [==============================] - 0s 3ms/step - loss: 2.0874 - accuracy: 0.2849 - val_loss: 2.0944 - val_accuracy: 0.2921\n",
            "Epoch 77/100\n",
            "148/148 [==============================] - 0s 3ms/step - loss: 2.0898 - accuracy: 0.2849 - val_loss: 2.0945 - val_accuracy: 0.2921\n",
            "Epoch 78/100\n",
            "148/148 [==============================] - 0s 3ms/step - loss: 2.0868 - accuracy: 0.2849 - val_loss: 2.1030 - val_accuracy: 0.2921\n",
            "Epoch 79/100\n",
            "148/148 [==============================] - 0s 3ms/step - loss: 2.0902 - accuracy: 0.2849 - val_loss: 2.0942 - val_accuracy: 0.2921\n",
            "Epoch 80/100\n",
            "148/148 [==============================] - 0s 3ms/step - loss: 2.0922 - accuracy: 0.2849 - val_loss: 2.1052 - val_accuracy: 0.2921\n",
            "Epoch 81/100\n",
            "148/148 [==============================] - 0s 3ms/step - loss: 2.0890 - accuracy: 0.2849 - val_loss: 2.0972 - val_accuracy: 0.2921\n",
            "Epoch 82/100\n",
            "148/148 [==============================] - 0s 3ms/step - loss: 2.0886 - accuracy: 0.2849 - val_loss: 2.0994 - val_accuracy: 0.2921\n",
            "Epoch 83/100\n",
            "148/148 [==============================] - 0s 3ms/step - loss: 2.0887 - accuracy: 0.2849 - val_loss: 2.0975 - val_accuracy: 0.2921\n",
            "Epoch 84/100\n",
            "148/148 [==============================] - 1s 4ms/step - loss: 2.0893 - accuracy: 0.2849 - val_loss: 2.0954 - val_accuracy: 0.2921\n",
            "Epoch 85/100\n",
            "148/148 [==============================] - 1s 5ms/step - loss: 2.0869 - accuracy: 0.2849 - val_loss: 2.0915 - val_accuracy: 0.2921\n",
            "Epoch 86/100\n",
            "148/148 [==============================] - 1s 5ms/step - loss: 2.0879 - accuracy: 0.2849 - val_loss: 2.0993 - val_accuracy: 0.2921\n",
            "Epoch 87/100\n",
            "148/148 [==============================] - 1s 5ms/step - loss: 2.0894 - accuracy: 0.2849 - val_loss: 2.1008 - val_accuracy: 0.2921\n",
            "Epoch 88/100\n",
            "148/148 [==============================] - 1s 5ms/step - loss: 2.0893 - accuracy: 0.2849 - val_loss: 2.1076 - val_accuracy: 0.2921\n",
            "Epoch 89/100\n",
            "148/148 [==============================] - 1s 4ms/step - loss: 2.0894 - accuracy: 0.2849 - val_loss: 2.0971 - val_accuracy: 0.2921\n",
            "Epoch 90/100\n",
            "148/148 [==============================] - 1s 4ms/step - loss: 2.0877 - accuracy: 0.2849 - val_loss: 2.0915 - val_accuracy: 0.2921\n",
            "Epoch 91/100\n",
            "148/148 [==============================] - 1s 4ms/step - loss: 2.0887 - accuracy: 0.2849 - val_loss: 2.0938 - val_accuracy: 0.2921\n",
            "Epoch 92/100\n",
            "148/148 [==============================] - 1s 4ms/step - loss: 2.0891 - accuracy: 0.2849 - val_loss: 2.0999 - val_accuracy: 0.2921\n",
            "Epoch 93/100\n",
            "148/148 [==============================] - 0s 3ms/step - loss: 2.0895 - accuracy: 0.2849 - val_loss: 2.0974 - val_accuracy: 0.2921\n",
            "Epoch 94/100\n",
            "148/148 [==============================] - 1s 4ms/step - loss: 2.0895 - accuracy: 0.2849 - val_loss: 2.0879 - val_accuracy: 0.2921\n",
            "Epoch 95/100\n",
            "148/148 [==============================] - 1s 4ms/step - loss: 2.0879 - accuracy: 0.2849 - val_loss: 2.0946 - val_accuracy: 0.2921\n",
            "Epoch 96/100\n",
            "148/148 [==============================] - 1s 5ms/step - loss: 2.0908 - accuracy: 0.2849 - val_loss: 2.0857 - val_accuracy: 0.2921\n",
            "Epoch 97/100\n",
            "148/148 [==============================] - 1s 5ms/step - loss: 2.0901 - accuracy: 0.2849 - val_loss: 2.1039 - val_accuracy: 0.2921\n",
            "Epoch 98/100\n",
            "148/148 [==============================] - 1s 5ms/step - loss: 2.0873 - accuracy: 0.2849 - val_loss: 2.1050 - val_accuracy: 0.2921\n",
            "Epoch 99/100\n",
            "148/148 [==============================] - 1s 4ms/step - loss: 2.0903 - accuracy: 0.2849 - val_loss: 2.1004 - val_accuracy: 0.2921\n",
            "Epoch 100/100\n",
            "148/148 [==============================] - 1s 4ms/step - loss: 2.0913 - accuracy: 0.2849 - val_loss: 2.0909 - val_accuracy: 0.2921\n",
            "74/74 [==============================] - 0s 2ms/step - loss: 2.0846 - accuracy: 0.2849\n",
            "The test Loss is : 2.084629774093628\n",
            "\n",
            "The Best test Accuracy is : 28.486773371696472\n"
          ]
        }
      ]
    },
    {
      "cell_type": "code",
      "source": [
        "plotHistory(model_1_history)"
      ],
      "metadata": {
        "id": "uvN9OkRA-U6Y",
        "colab": {
          "base_uri": "https://localhost:8080/",
          "height": 381
        },
        "outputId": "abaa0a8f-52ed-4489-f3c0-93b7e8ae4aae"
      },
      "execution_count": 44,
      "outputs": [
        {
          "output_type": "stream",
          "name": "stdout",
          "text": [
            "Max. Validation Accuracy 0.29212531447410583\n"
          ]
        },
        {
          "output_type": "display_data",
          "data": {
            "text/plain": [
              "<Figure size 864x432 with 1 Axes>"
            ],
            "image/png": "[encoded data removed]"
          },
          "metadata": {
            "needs_background": "light"
          }
        }
      ]
    },
    {
      "cell_type": "code",
      "source": [
        "import xgboost as xgb\n",
        "xg_cl = xgb.XGBClassifier(objective='multi:softmax', n_estimators=2, seed=4212)\n",
        "xg_cl.fit(X_train,y_train)\n",
        "\n",
        "print('GBDT accuracy for training set: %f' % xg_cl.score(X_train, y_train))\n",
        "print('GBDT forest accuracy for test set: %f' % xg_cl.score(X_test, y_test))"
      ],
      "metadata": {
        "id": "4nQVDaHOBgUn",
        "colab": {
          "base_uri": "https://localhost:8080/"
        },
        "outputId": "a82db852-3d4f-454f-cb7f-b218c9e5ff46"
      },
      "execution_count": 37,
      "outputs": [
        {
          "output_type": "stream",
          "name": "stdout",
          "text": [
            "GBDT accuracy for training set: 0.469524\n",
            "GBDT forest accuracy for test set: 0.454315\n"
          ]
        }
      ]
    }
  ]
}